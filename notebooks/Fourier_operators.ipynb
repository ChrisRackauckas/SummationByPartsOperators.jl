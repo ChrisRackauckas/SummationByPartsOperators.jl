{
 "cells": [
  {
   "cell_type": "markdown",
   "metadata": {},
   "source": [
    "# Some Visualisations"
   ]
  },
  {
   "cell_type": "code",
   "execution_count": null,
   "metadata": {
    "collapsed": false
   },
   "outputs": [],
   "source": [
    "using Revise, SummationByPartsOperators\n",
    "using Plots, LaTeXStrings; pyplot()\n",
    "\n",
    "xmin = -1.0\n",
    "xmax = 1.0\n",
    "N = 64\n",
    "\n",
    "factor=10; ufunc(x) = exp(sinpi(factor*x)); dufunc(x) = ufunc(x)*factor*π*cospi(factor*x)\n",
    "\n",
    "D = fourier_derivative_operator(xmin, xmax, N)\n",
    "Di = fourier_spectral_viscosity(D)\n",
    "\n",
    "u = compute_coefficients(ufunc, D)\n",
    "du = compute_coefficients(dufunc, D)\n",
    "res = D*u\n",
    "\n",
    "@show norm(Di*u)\n",
    "\n",
    "xplot, duplot = evaluate_coefficients(du, D)\n",
    "plot(xplot, duplot, label=\"numerical \\$u'\\$\", xguide=L\"x\")\n",
    "x = linspace(xmin, xmax, 10^3); plot!(x, dufunc.(x), label=\"analytical \\$u'\\$\")"
   ]
  },
  {
   "cell_type": "markdown",
   "metadata": {
    "collapsed": false
   },
   "source": [
    "# Benchmarks"
   ]
  },
  {
   "cell_type": "code",
   "execution_count": null,
   "metadata": {
    "collapsed": false
   },
   "outputs": [],
   "source": [
    "using Revise, SummationByPartsOperators, BenchmarkTools\n",
    "\n",
    "xmin = -1.0\n",
    "xmax = 1.0\n",
    "N = 64\n",
    "\n",
    "factor=10; ufunc(x) = exp(sinpi(factor*x)); dufunc(x) = ufunc(x)*factor*π*cospi(factor*x)\n",
    "\n",
    "D = fourier_derivative_operator(xmin, xmax, N)\n",
    "Di = fourier_spectral_viscosity(D)\n",
    "\n",
    "u = compute_coefficients(ufunc, D)\n",
    "res = D*u\n",
    "\n",
    "display(@benchmark A_mul_B!(res, D, u))\n",
    "display(@benchmark A_mul_B!(res, Di, u))"
   ]
  }
 ],
 "metadata": {
  "kernelspec": {
   "display_name": "Julia 0.6.2-pre",
   "language": "julia",
   "name": "julia-0.6"
  },
  "language_info": {
   "file_extension": ".jl",
   "mimetype": "application/julia",
   "name": "julia",
   "version": "0.6.3"
  }
 },
 "nbformat": 4,
 "nbformat_minor": 0
}
