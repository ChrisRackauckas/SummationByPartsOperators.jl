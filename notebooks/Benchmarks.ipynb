{
 "cells": [
  {
   "cell_type": "markdown",
   "metadata": {},
   "source": [
    "# First Derivative Operators"
   ]
  },
  {
   "cell_type": "code",
   "execution_count": null,
   "metadata": {
    "collapsed": false
   },
   "outputs": [],
   "source": [
    "using Revise, BenchmarkTools, SummationByPartsOperators\n",
    "\n",
    "T = Float64\n",
    "xmin, xmax = T(0), T(1)\n",
    "N = 10^3\n",
    "der_order = 1\n",
    "acc_order = 6\n",
    "source = MattssonSvärdShoeybi2008()\n",
    "\n",
    "D_periodic_serial  = periodic_derivative_operator(der_order, acc_order, xmin, xmax, N, Val{:serial}())\n",
    "D_periodic_threads = periodic_derivative_operator(der_order, acc_order, xmin, xmax, N, Val{:threads}())\n",
    "D_nonperiodic_serial  = derivative_operator(source, der_order, acc_order, xmin, xmax, N, Val{:serial}())\n",
    "D_nonperiodic_threads = derivative_operator(source, der_order, acc_order, xmin, xmax, N, Val{:threads}())"
   ]
  },
  {
   "cell_type": "code",
   "execution_count": null,
   "metadata": {
    "collapsed": false
   },
   "outputs": [],
   "source": [
    "u = rand(T, N)\n",
    "dest = similar(u)\n",
    "\n",
    "display(@benchmark A_mul_B!($dest, $D_periodic_serial, $u))\n",
    "display(@benchmark A_mul_B!($dest, $D_periodic_threads, $u))\n",
    "display(@benchmark A_mul_B!($dest, $D_nonperiodic_serial, $u))\n",
    "display(@benchmark A_mul_B!($dest, $D_nonperiodic_threads, $u))"
   ]
  },
  {
   "cell_type": "markdown",
   "metadata": {},
   "source": [
    "# Dissipation Operators"
   ]
  },
  {
   "cell_type": "code",
   "execution_count": 10,
   "metadata": {
    "collapsed": false
   },
   "outputs": [
    {
     "data": {
      "text/plain": [
       "SBP 4th derivative dissipation operator of order 2 {T=Float64, Parallel=Val{:threads}} \n",
       "on a grid in [0.0, 1.0] using 1000 nodes \n",
       "and coefficients given in \n",
       "  Mattsson, Svärd, Nordström (2004) \n",
       "  Stable and Accurate Artificial Dissipation. \n",
       "  Journal of Scientific Computing 21.1, pp. 57-79. \n"
      ]
     },
     "execution_count": 10,
     "metadata": {},
     "output_type": "execute_result"
    }
   ],
   "source": [
    "using Revise, BenchmarkTools, SummationByPartsOperators\n",
    "\n",
    "T = Float64\n",
    "xmin, xmax = T(0), T(1)\n",
    "N = 10^3\n",
    "acc_order = 4\n",
    "source_D = MattssonSvärdShoeybi2008()\n",
    "source_Di = MattssonSvärdNordström2004()\n",
    "\n",
    "D_serial  = derivative_operator(source_D, 1, acc_order, xmin, xmax, N, Val{:serial}())\n",
    "D_threads = derivative_operator(source_D, 1, acc_order, xmin, xmax, N, Val{:threads}())\n",
    "\n",
    "Di_serial  = dissipation_operator(source_Di, D_serial)\n",
    "Di_sparse  = sparse(Di_serial)\n",
    "Di_full    = full(Di_serial)\n",
    "Di_threads = dissipation_operator(source_Di, D_threads)\n",
    "\n",
    "Di_new_serial  = new_dissipation_operator(source_Di, D_serial)\n",
    "Di_new_threads = new_dissipation_operator(source_Di, D_threads)"
   ]
  },
  {
   "cell_type": "code",
   "execution_count": 17,
   "metadata": {
    "collapsed": false
   },
   "outputs": [
    {
     "data": {
      "text/plain": [
       "BenchmarkTools.Trial: \n",
       "  memory estimate:  0 bytes\n",
       "  allocs estimate:  0\n",
       "  --------------\n",
       "  minimum time:     481.149 ns (0.00% GC)\n",
       "  median time:      485.541 ns (0.00% GC)\n",
       "  mean time:        487.161 ns (0.00% GC)\n",
       "  maximum time:     2.647 μs (0.00% GC)\n",
       "  --------------\n",
       "  samples:          10000\n",
       "  evals/sample:     194"
      ]
     },
     "metadata": {},
     "output_type": "display_data"
    },
    {
     "data": {
      "text/plain": [
       "BenchmarkTools.Trial: \n",
       "  memory estimate:  0 bytes\n",
       "  allocs estimate:  0\n",
       "  --------------\n",
       "  minimum time:     1.096 μs (0.00% GC)\n",
       "  median time:      1.101 μs (0.00% GC)\n",
       "  mean time:        1.103 μs (0.00% GC)\n",
       "  maximum time:     2.375 μs (0.00% GC)\n",
       "  --------------\n",
       "  samples:          10000\n",
       "  evals/sample:     10"
      ]
     },
     "metadata": {},
     "output_type": "display_data"
    },
    {
     "data": {
      "text/plain": [
       "BenchmarkTools.Trial: \n",
       "  memory estimate:  0 bytes\n",
       "  allocs estimate:  0\n",
       "  --------------\n",
       "  minimum time:     796.505 ns (0.00% GC)\n",
       "  median time:      799.484 ns (0.00% GC)\n",
       "  mean time:        806.525 ns (0.00% GC)\n",
       "  maximum time:     5.241 μs (0.00% GC)\n",
       "  --------------\n",
       "  samples:          10000\n",
       "  evals/sample:     95"
      ]
     },
     "metadata": {},
     "output_type": "display_data"
    }
   ],
   "source": [
    "u = rand(T, N)\n",
    "dest = similar(u)\n",
    "\n",
    "display(@benchmark A_mul_B!($dest, $D_serial, $u))\n",
    "display(@benchmark A_mul_B!($dest, $Di_serial, $u))\n",
    "#display(@benchmark A_mul_B!($dest, $Di_sparse, $u))\n",
    "#display(@benchmark A_mul_B!($dest, $Di_full, $u))\n",
    "display(@benchmark A_mul_B!($dest, $Di_new_serial, $u))\n",
    "\n",
    "#display(@benchmark A_mul_B!($dest, $D_threads, $u))\n",
    "#display(@benchmark A_mul_B!($dest, $Di_threads, $u))\n",
    "#display(@benchmark A_mul_B!($dest, $Di_new_threads, $u))"
   ]
  },
  {
   "cell_type": "code",
   "execution_count": 8,
   "metadata": {
    "collapsed": false
   },
   "outputs": [
    {
     "data": {
      "text/plain": [
       "BenchmarkTools.Trial: \n",
       "  memory estimate:  0 bytes\n",
       "  allocs estimate:  0\n",
       "  --------------\n",
       "  minimum time:     303.398 ns (0.00% GC)\n",
       "  median time:      304.335 ns (0.00% GC)\n",
       "  mean time:        304.558 ns (0.00% GC)\n",
       "  maximum time:     471.112 ns (0.00% GC)\n",
       "  --------------\n",
       "  samples:          10000\n",
       "  evals/sample:     251"
      ]
     },
     "metadata": {},
     "output_type": "display_data"
    },
    {
     "data": {
      "text/plain": [
       "BenchmarkTools.Trial: \n",
       "  memory estimate:  0 bytes\n",
       "  allocs estimate:  0\n",
       "  --------------\n",
       "  minimum time:     556.597 ns (0.00% GC)\n",
       "  median time:      560.769 ns (0.00% GC)\n",
       "  mean time:        561.436 ns (0.00% GC)\n",
       "  maximum time:     731.312 ns (0.00% GC)\n",
       "  --------------\n",
       "  samples:          10000\n",
       "  evals/sample:     186"
      ]
     },
     "metadata": {},
     "output_type": "display_data"
    },
    {
     "data": {
      "text/plain": [
       "BenchmarkTools.Trial: \n",
       "  memory estimate:  0 bytes\n",
       "  allocs estimate:  0\n",
       "  --------------\n",
       "  minimum time:     414.794 ns (0.00% GC)\n",
       "  median time:      416.688 ns (0.00% GC)\n",
       "  mean time:        417.298 ns (0.00% GC)\n",
       "  maximum time:     645.724 ns (0.00% GC)\n",
       "  --------------\n",
       "  samples:          10000\n",
       "  evals/sample:     199"
      ]
     },
     "metadata": {},
     "output_type": "display_data"
    }
   ],
   "source": [
    "u = rand(T, N)\n",
    "dest = similar(u)\n",
    "\n",
    "display(@benchmark A_mul_B!($dest, $D_serial, $u))\n",
    "display(@benchmark A_mul_B!($dest, $Di_serial, $u))\n",
    "#display(@benchmark A_mul_B!($dest, $Di_sparse, $u))\n",
    "#display(@benchmark A_mul_B!($dest, $Di_full, $u))\n",
    "display(@benchmark A_mul_B!($dest, $Di_new_serial, $u))\n",
    "\n",
    "#display(@benchmark A_mul_B!($dest, $D_threads, $u))\n",
    "#display(@benchmark A_mul_B!($dest, $Di_threads, $u))\n",
    "#display(@benchmark A_mul_B!($dest, $Di_new_threads, $u))"
   ]
  }
 ],
 "metadata": {
  "kernelspec": {
   "display_name": "Julia 0.6.1-pre",
   "language": "julia",
   "name": "julia-0.6"
  },
  "language_info": {
   "file_extension": ".jl",
   "mimetype": "application/julia",
   "name": "julia",
   "version": "0.6.3"
  }
 },
 "nbformat": 4,
 "nbformat_minor": 0
}
