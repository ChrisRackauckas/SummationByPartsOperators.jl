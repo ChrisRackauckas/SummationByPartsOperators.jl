{
 "cells": [
  {
   "cell_type": "markdown",
   "metadata": {},
   "source": [
    "# First Derivative Operators"
   ]
  },
  {
   "cell_type": "code",
   "execution_count": null,
   "metadata": {
    "collapsed": false
   },
   "outputs": [],
   "source": [
    "using Revise, BenchmarkTools, SummationByPartsOperators\n",
    "\n",
    "T = Float64\n",
    "xmin, xmax = T(0), T(1)\n",
    "N = 10^3\n",
    "der_order = 1\n",
    "acc_order = 6\n",
    "source = MattssonSvärdShoeybi2008()\n",
    "\n",
    "D_periodic_serial  = periodic_derivative_operator(der_order, acc_order, xmin, xmax, N, Val{:serial}())\n",
    "D_periodic_threads = periodic_derivative_operator(der_order, acc_order, xmin, xmax, N, Val{:threads}())\n",
    "D_nonperiodic_serial  = derivative_operator(source, der_order, acc_order, xmin, xmax, N, Val{:serial}())\n",
    "D_nonperiodic_threads = derivative_operator(source, der_order, acc_order, xmin, xmax, N, Val{:threads}())"
   ]
  },
  {
   "cell_type": "code",
   "execution_count": null,
   "metadata": {
    "collapsed": false
   },
   "outputs": [],
   "source": [
    "u = rand(T, N)\n",
    "dest = similar(u)\n",
    "\n",
    "display(@benchmark A_mul_B!($dest, $D_periodic_serial, $u))\n",
    "display(@benchmark A_mul_B!($dest, $D_periodic_threads, $u))\n",
    "display(@benchmark A_mul_B!($dest, $D_nonperiodic_serial, $u))\n",
    "display(@benchmark A_mul_B!($dest, $D_nonperiodic_threads, $u))"
   ]
  },
  {
   "cell_type": "markdown",
   "metadata": {},
   "source": [
    "# Dissipation Operators"
   ]
  },
  {
   "cell_type": "code",
   "execution_count": 22,
   "metadata": {
    "collapsed": false
   },
   "outputs": [
    {
     "data": {
      "text/plain": [
       "SBP 6th derivative dissipation operator of order 2 {T=Float64, Parallel=Val{:threads}} \n",
       "on a grid in [0.0, 1.0] using 1000 nodes \n",
       "and coefficients given in \n",
       "  Mattsson, Svärd, Nordström (2004) \n",
       "  Stable and Accurate Artificial Dissipation. \n",
       "  Journal of Scientific Computing 21.1, pp. 57-79. \n"
      ]
     },
     "execution_count": 22,
     "metadata": {},
     "output_type": "execute_result"
    }
   ],
   "source": [
    "using Revise, BenchmarkTools, SummationByPartsOperators\n",
    "\n",
    "T = Float64\n",
    "xmin, xmax = T(0), T(1)\n",
    "N = 10^3\n",
    "acc_order = 6\n",
    "source_D = MattssonSvärdShoeybi2008()\n",
    "source_Di = MattssonSvärdNordström2004()\n",
    "\n",
    "D_serial  = derivative_operator(source_D, 1, acc_order, xmin, xmax, N, Val{:serial}())\n",
    "D_threads = derivative_operator(source_D, 1, acc_order, xmin, xmax, N, Val{:threads}())\n",
    "\n",
    "Di_serial  = dissipation_operator(source_Di, D_serial)\n",
    "Di_sparse  = sparse(Di_serial)\n",
    "Di_full    = full(Di_serial)\n",
    "Di_threads = dissipation_operator(source_Di, D_threads)\n",
    "\n",
    "Di_new_serial  = new_dissipation_operator(source_Di, D_serial)\n",
    "Di_new_threads = new_dissipation_operator(source_Di, D_threads)"
   ]
  },
  {
   "cell_type": "code",
   "execution_count": 23,
   "metadata": {
    "collapsed": false
   },
   "outputs": [
    {
     "name": "stdout",
     "output_type": "stream",
     "text": [
      "D_serial:\n"
     ]
    },
    {
     "data": {
      "text/plain": [
       "BenchmarkTools.Trial: \n",
       "  memory estimate:  0 bytes\n",
       "  allocs estimate:  0\n",
       "  --------------\n",
       "  minimum time:     833.427 ns (0.00% GC)\n",
       "  median time:      835.537 ns (0.00% GC)\n",
       "  mean time:        837.745 ns (0.00% GC)\n",
       "  maximum time:     1.551 μs (0.00% GC)\n",
       "  --------------\n",
       "  samples:          10000\n",
       "  evals/sample:     82"
      ]
     },
     "metadata": {},
     "output_type": "display_data"
    },
    {
     "name": "stdout",
     "output_type": "stream",
     "text": [
      "Di_serial:\n"
     ]
    },
    {
     "data": {
      "text/plain": [
       "BenchmarkTools.Trial: \n",
       "  memory estimate:  0 bytes\n",
       "  allocs estimate:  0\n",
       "  --------------\n",
       "  minimum time:     1.723 μs (0.00% GC)\n",
       "  median time:      1.730 μs (0.00% GC)\n",
       "  mean time:        1.731 μs (0.00% GC)\n",
       "  maximum time:     4.383 μs (0.00% GC)\n",
       "  --------------\n",
       "  samples:          10000\n",
       "  evals/sample:     10"
      ]
     },
     "metadata": {},
     "output_type": "display_data"
    },
    {
     "name": "stdout",
     "output_type": "stream",
     "text": [
      "Di_new_serial:\n"
     ]
    },
    {
     "data": {
      "text/plain": [
       "BenchmarkTools.Trial: \n",
       "  memory estimate:  0 bytes\n",
       "  allocs estimate:  0\n",
       "  --------------\n",
       "  minimum time:     1.417 μs (0.00% GC)\n",
       "  median time:      1.425 μs (0.00% GC)\n",
       "  mean time:        1.430 μs (0.00% GC)\n",
       "  maximum time:     2.676 μs (0.00% GC)\n",
       "  --------------\n",
       "  samples:          10000\n",
       "  evals/sample:     10"
      ]
     },
     "metadata": {},
     "output_type": "display_data"
    }
   ],
   "source": [
    "u = rand(T, N)\n",
    "dest = similar(u)\n",
    "\n",
    "println(\"D_serial:\"); sleep(0.1); display(@benchmark A_mul_B!($dest, $D_serial, $u))\n",
    "println(\"Di_serial:\"); sleep(0.1); display(@benchmark A_mul_B!($dest, $Di_serial, $u))\n",
    "#println(\"Di_sparse:\"); sleep(0.1); display(@benchmark A_mul_B!($dest, $Di_sparse, $u))\n",
    "#println(\"Di_full:\"); sleep(0.1); display(@benchmark A_mul_B!($dest, $Di_full, $u))\n",
    "println(\"Di_new_serial:\"); sleep(0.1); display(@benchmark A_mul_B!($dest, $Di_new_serial, $u))\n",
    "\n",
    "#println(\"D_threads:\"); sleep(0.1); display(@benchmark A_mul_B!($dest, $D_threads, $u))\n",
    "#println(\"Di_threads:\"); sleep(0.1); display(@benchmark A_mul_B!($dest, $Di_threads, $u))\n",
    "#println(\"Di_new_threads:\"); sleep(0.1); display(@benchmark A_mul_B!($dest, $Di_new_threads, $u))"
   ]
  },
  {
   "cell_type": "code",
   "execution_count": 6,
   "metadata": {
    "collapsed": false
   },
   "outputs": [
    {
     "data": {
      "text/plain": [
       "BenchmarkTools.Trial: \n",
       "  memory estimate:  0 bytes\n",
       "  allocs estimate:  0\n",
       "  --------------\n",
       "  minimum time:     484.538 ns (0.00% GC)\n",
       "  median time:      486.523 ns (0.00% GC)\n",
       "  mean time:        488.660 ns (0.00% GC)\n",
       "  maximum time:     765.359 ns (0.00% GC)\n",
       "  --------------\n",
       "  samples:          10000\n",
       "  evals/sample:     195"
      ]
     },
     "metadata": {},
     "output_type": "display_data"
    },
    {
     "data": {
      "text/plain": [
       "BenchmarkTools.Trial: \n",
       "  memory estimate:  0 bytes\n",
       "  allocs estimate:  0\n",
       "  --------------\n",
       "  minimum time:     1.090 μs (0.00% GC)\n",
       "  median time:      1.095 μs (0.00% GC)\n",
       "  mean time:        1.101 μs (0.00% GC)\n",
       "  maximum time:     2.590 μs (0.00% GC)\n",
       "  --------------\n",
       "  samples:          10000\n",
       "  evals/sample:     10"
      ]
     },
     "metadata": {},
     "output_type": "display_data"
    },
    {
     "data": {
      "text/plain": [
       "BenchmarkTools.Trial: \n",
       "  memory estimate:  0 bytes\n",
       "  allocs estimate:  0\n",
       "  --------------\n",
       "  minimum time:     797.302 ns (0.00% GC)\n",
       "  median time:      800.406 ns (0.00% GC)\n",
       "  mean time:        802.377 ns (0.00% GC)\n",
       "  maximum time:     1.269 μs (0.00% GC)\n",
       "  --------------\n",
       "  samples:          10000\n",
       "  evals/sample:     96"
      ]
     },
     "metadata": {},
     "output_type": "display_data"
    }
   ],
   "source": [
    "u = rand(T, N)\n",
    "dest = similar(u)\n",
    "\n",
    "println(\"D_serial:\"); sleep(0.1); display(@benchmark A_mul_B!($dest, $D_serial, $u))\n",
    "println(\"Di_serial:\"); sleep(0.1); display(@benchmark A_mul_B!($dest, $Di_serial, $u))\n",
    "#println(\"Di_sparse:\"); sleep(0.1); display(@benchmark A_mul_B!($dest, $Di_sparse, $u))\n",
    "#println(\"Di_full:\"); sleep(0.1); display(@benchmark A_mul_B!($dest, $Di_full, $u))\n",
    "println(\"Di_new_serial:\"); sleep(0.1); display(@benchmark A_mul_B!($dest, $Di_new_serial, $u))\n",
    "\n",
    "#println(\"D_threads:\"); sleep(0.1); display(@benchmark A_mul_B!($dest, $D_threads, $u))\n",
    "#println(\"Di_threads:\"); sleep(0.1); display(@benchmark A_mul_B!($dest, $Di_threads, $u))\n",
    "#println(\"Di_new_threads:\"); sleep(0.1); display(@benchmark A_mul_B!($dest, $Di_new_threads, $u))"
   ]
  }
 ],
 "metadata": {
  "kernelspec": {
   "display_name": "Julia 0.6.1-pre",
   "language": "julia",
   "name": "julia-0.6"
  },
  "language_info": {
   "file_extension": ".jl",
   "mimetype": "application/julia",
   "name": "julia",
   "version": "0.6.3"
  }
 },
 "nbformat": 4,
 "nbformat_minor": 0
}
