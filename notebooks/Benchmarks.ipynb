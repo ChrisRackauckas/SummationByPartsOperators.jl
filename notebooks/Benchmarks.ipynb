{
 "cells": [
  {
   "cell_type": "markdown",
   "metadata": {},
   "source": [
    "# First Derivative Operators"
   ]
  },
  {
   "cell_type": "code",
   "execution_count": null,
   "metadata": {
    "collapsed": false
   },
   "outputs": [],
   "source": [
    "using Revise, BenchmarkTools, SummationByPartsOperators\n",
    "\n",
    "T = Float64\n",
    "xmin, xmax = T(0), T(1)\n",
    "N = 10^3\n",
    "der_order = 1\n",
    "acc_order = 6\n",
    "source = MattssonSvärdShoeybi2008()\n",
    "\n",
    "D_periodic_serial  = periodic_derivative_operator(der_order, acc_order, xmin, xmax, N, Val{:serial}())\n",
    "D_periodic_threads = periodic_derivative_operator(der_order, acc_order, xmin, xmax, N, Val{:threads}())\n",
    "D_nonperiodic_serial  = derivative_operator(source, der_order, acc_order, xmin, xmax, N, Val{:serial}())\n",
    "D_nonperiodic_threads = derivative_operator(source, der_order, acc_order, xmin, xmax, N, Val{:threads}())"
   ]
  },
  {
   "cell_type": "code",
   "execution_count": null,
   "metadata": {
    "collapsed": false
   },
   "outputs": [],
   "source": [
    "u = rand(T, N)\n",
    "dest = similar(u)\n",
    "\n",
    "display(@benchmark A_mul_B!($dest, $D_periodic_serial, $u))\n",
    "display(@benchmark A_mul_B!($dest, $D_periodic_threads, $u))\n",
    "display(@benchmark A_mul_B!($dest, $D_nonperiodic_serial, $u))\n",
    "display(@benchmark A_mul_B!($dest, $D_nonperiodic_threads, $u))"
   ]
  },
  {
   "cell_type": "markdown",
   "metadata": {},
   "source": [
    "# Dissipation Operators"
   ]
  },
  {
   "cell_type": "code",
   "execution_count": null,
   "metadata": {
    "collapsed": false
   },
   "outputs": [],
   "source": [
    "using Revise, BenchmarkTools, SummationByPartsOperators\n",
    "\n",
    "T = Float64\n",
    "xmin, xmax = T(0), T(1)\n",
    "N = 10^3\n",
    "acc_order = 2\n",
    "source_D = MattssonSvärdShoeybi2008()\n",
    "source_Di = MattssonSvärdNordström2004()\n",
    "\n",
    "D_serial  = derivative_operator(source_D, 1, acc_order, xmin, xmax, N, Val{:serial}())\n",
    "D_threads = derivative_operator(source_D, 1, acc_order, xmin, xmax, N, Val{:threads}())\n",
    "\n",
    "Di_serial  = dissipation_operator(source_Di, D_serial)\n",
    "Di_sparse  = sparse(Di_serial)\n",
    "Di_full    = full(Di_serial)\n",
    "Di_threads = dissipation_operator(source_Di, D_threads)\n",
    "\n",
    "Di_new_serial  = new_dissipation_operator(source_Di, D_serial)\n",
    "Di_new_threads = new_dissipation_operator(source_Di, D_threads)"
   ]
  },
  {
   "cell_type": "code",
   "execution_count": null,
   "metadata": {
    "collapsed": false
   },
   "outputs": [],
   "source": [
    "u = rand(T, N)\n",
    "dest = similar(u)\n",
    "\n",
    "display(@benchmark A_mul_B!($dest, $D_serial, $u))\n",
    "display(@benchmark A_mul_B!($dest, $Di_serial, $u))\n",
    "#display(@benchmark A_mul_B!($dest, $Di_sparse, $u))\n",
    "#display(@benchmark A_mul_B!($dest, $Di_full, $u))\n",
    "display(@benchmark A_mul_B!($dest, $Di_new_serial, $u))\n",
    "\n",
    "#display(@benchmark A_mul_B!($dest, $D_threads, $u))\n",
    "display(@benchmark A_mul_B!($dest, $Di_threads, $u))\n",
    "display(@benchmark A_mul_B!($dest, $Di_new_threads, $u))"
   ]
  },
  {
   "cell_type": "code",
   "execution_count": null,
   "metadata": {
    "collapsed": false
   },
   "outputs": [],
   "source": [
    "u = rand(T, N)\n",
    "dest = similar(u)\n",
    "\n",
    "display(@benchmark A_mul_B!($dest, $D_serial, $u))\n",
    "display(@benchmark A_mul_B!($dest, $Di_serial, $u))\n",
    "#display(@benchmark A_mul_B!($dest, $Di_sparse, $u))\n",
    "#display(@benchmark A_mul_B!($dest, $Di_full, $u))\n",
    "display(@benchmark A_mul_B!($dest, $Di_new_serial, $u))\n",
    "\n",
    "#display(@benchmark A_mul_B!($dest, $D_threads, $u))\n",
    "display(@benchmark A_mul_B!($dest, $Di_threads, $u))\n",
    "display(@benchmark A_mul_B!($dest, $Di_new_threads, $u))"
   ]
  }
 ],
 "metadata": {
  "kernelspec": {
   "display_name": "Julia 0.6.2-pre",
   "language": "julia",
   "name": "julia-0.6"
  },
  "language_info": {
   "file_extension": ".jl",
   "mimetype": "application/julia",
   "name": "julia",
   "version": "0.6.3"
  }
 },
 "nbformat": 4,
 "nbformat_minor": 0
}
